{
 "cells": [
  {
   "cell_type": "code",
   "execution_count": 5,
   "metadata": {
    "collapsed": false
   },
   "outputs": [],
   "source": [
    "import pandas as pd\n",
    "from __future__ import division"
   ]
  },
  {
   "cell_type": "code",
   "execution_count": 6,
   "metadata": {
    "collapsed": true
   },
   "outputs": [],
   "source": [
    "joint_data=pd.read_csv('C:\\\\Users\\\\ffan\\\\Downloads\\\\Projects\\\\CDC\\\\full_data\\\\full_data_joined_all_v2.csv')"
   ]
  },
  {
   "cell_type": "code",
   "execution_count": 7,
   "metadata": {
    "collapsed": false
   },
   "outputs": [
    {
     "data": {
      "text/plain": [
       "(105462, 11)"
      ]
     },
     "execution_count": 7,
     "metadata": {},
     "output_type": "execute_result"
    }
   ],
   "source": [
    "joint_data.shape"
   ]
  },
  {
   "cell_type": "code",
   "execution_count": 8,
   "metadata": {
    "collapsed": false
   },
   "outputs": [
    {
     "data": {
      "text/plain": [
       "['synname',\n",
       " 'ShepAgentName',\n",
       " 'ShepDescrip',\n",
       " 'DgDrug',\n",
       " 'DrugSummary',\n",
       " 'agentnumber',\n",
       " 'agentname',\n",
       " 'synonym',\n",
       " 'mag',\n",
       " 'comment',\n",
       " 'notes']"
      ]
     },
     "execution_count": 8,
     "metadata": {},
     "output_type": "execute_result"
    }
   ],
   "source": [
    "joint_data.columns.values.tolist()"
   ]
  },
  {
   "cell_type": "code",
   "execution_count": 9,
   "metadata": {
    "collapsed": false
   },
   "outputs": [],
   "source": [
    "# checking matches\n",
    "SynIdx=pd.notnull(joint_data['synname'])\n",
    "ShepIdx=pd.notnull(joint_data['ShepAgentName'])\n",
    "ReproIdx=pd.notnull(joint_data['DgDrug'])\n",
    "TerisIdx=pd.notnull(joint_data['agentname'])\n",
    "\n",
    "\n",
    "ShepAgent=set(joint_data['ShepAgentName'][ShepIdx])\n",
    "ReproAgent=set(joint_data['DgDrug'][ReproIdx])\n",
    "TerisAgent=set(joint_data['agentname'][TerisIdx])\n",
    "\n",
    "idx_temp = [all(idx) for idx in zip(ShepIdx, ReproIdx, TerisIdx)]\n",
    "match3_temp=set(joint_data['agentname'][idx_temp])\n",
    "\n",
    "\n",
    "## shephard and Teris\n",
    "idx_temp = [all(idx) for idx in zip(ShepIdx, TerisIdx, [not i for i in ReproIdx])]\n",
    "match2_shep_temp=set(joint_data['agentname'][idx_temp])\n",
    "\n",
    "## Reprotox and Teris\n",
    "idx_temp = [all(idx) for idx in zip(ReproIdx, TerisIdx, [not i for i in ShepIdx])]\n",
    "match2_repr_temp=set(joint_data['agentname'][idx_temp])\n",
    "\n"
   ]
  },
  {
   "cell_type": "code",
   "execution_count": 111,
   "metadata": {
    "collapsed": false
   },
   "outputs": [
    {
     "name": "stdout",
     "output_type": "stream",
     "text": [
      "Total Teris agent #:  1662\n",
      "3 sources: 322\n",
      "2 sources (Shephard and Teris): 38\n",
      "2 sources (Repretox and Teris): 785\n",
      "no match in shepherd or Reprotox: 517\n",
      "shehard/teris 0.216606498195\n",
      "rerpotox/teris 0.666064981949\n"
     ]
    }
   ],
   "source": [
    "# 3 sources match\n",
    "match3= match3_temp | (match2_shep_temp & match2_repr_temp)\n",
    "\n",
    "print('Total Teris agent #: '), len(TerisAgent)\n",
    "print('3 sources:'), len(match3)\n",
    "\n",
    "# 2 scource match\n",
    "match2_shep= match2_shep_temp - match3\n",
    "print('2 sources (Shephard and Teris):'), len(match2_shep)\n",
    "\n",
    "match2_repr= match2_repr_temp - match3\n",
    "print('2 sources (Repretox and Teris):'), len(match2_repr)\n",
    "\n",
    "## no matching in shephard or Reprotox\n",
    "no_match_Teris=TerisAgent-match3-match2_shep-match2_repr\n",
    "print ('no match in shepherd or Reprotox:'),len(no_match_Teris)\n",
    "\n",
    "print 'shehard/teris',(len(match3)+len(match2_shep))/len(TerisAgent)\n",
    "print 'rerpotox/teris',(len(match3)+len(match2_repr))/len(TerisAgent)"
   ]
  },
  {
   "cell_type": "code",
   "execution_count": 112,
   "metadata": {
    "collapsed": false,
    "scrolled": false
   },
   "outputs": [
    {
     "name": "stdout",
     "output_type": "stream",
     "text": [
      "# shephard agent: 3631\n",
      "shephard agent name matching synname: 585\n",
      "# reprotox agent: 10610\n",
      "Reprotox drug name not matching synname: 7709\n"
     ]
    }
   ],
   "source": [
    "## check synname match\n",
    "\n",
    "print ('# shephard agent:'), len(ShepAgent)\n",
    "idx_temp = [all(idx) for idx in zip(ShepIdx, SynIdx)]\n",
    "shep_temp=set(joint_data['ShepAgentName'][idx_temp])\n",
    "print ('shephard agent name matching synname:'),len(shep_temp)\n",
    "#print 'shepard/synname', len(shep_temp)/len(ShepAgent)\n",
    "\n",
    "##\n",
    "print ('# reprotox agent:'), len(ReproAgent)\n",
    "idx_temp = [all(idx) for idx in zip(ReproIdx, [not i for i in SynIdx])]\n",
    "repr_temp=set(joint_data['DgDrug'][idx_temp])\n",
    "print ('Reprotox drug name not matching synname:'),len(repr_temp)"
   ]
  },
  {
   "cell_type": "code",
   "execution_count": 113,
   "metadata": {
    "collapsed": false
   },
   "outputs": [
    {
     "name": "stdout",
     "output_type": "stream",
     "text": [
      "# reprotox agent: 10610\n",
      "Reprotox drug name matching TerisIdx: 2618\n",
      "Teris/Reprotox 0.246748350613\n",
      "# shephard agent: 3631\n",
      "shephard agent name matching TerisIdx: 386\n",
      "Teris/Shepard 0.106306802534\n"
     ]
    }
   ],
   "source": [
    "## Teris match Reprotox & Teris match Shepard\n",
    "print ('# reprotox agent:'), len(ReproAgent)\n",
    "idx_temp = [all(idx) for idx in zip(ReproIdx, TerisIdx)]\n",
    "repr_temp=set(joint_data['DgDrug'][idx_temp])\n",
    "print ('Reprotox drug name matching TerisIdx:'),len(repr_temp)\n",
    "print 'Teris/Reprotox', len(repr_temp)/len(ReproAgent)\n",
    "\n",
    "print ('# shephard agent:'), len(ShepAgent)\n",
    "idx_temp = [all(idx) for idx in zip(ShepIdx, TerisIdx)]\n",
    "shep_temp=set(joint_data['ShepAgentName'][idx_temp])\n",
    "print ('shephard agent name matching TerisIdx:'),len(shep_temp)\n",
    "print 'Teris/Shepard', len(shep_temp)/len(ShepAgent)"
   ]
  },
  {
   "cell_type": "code",
   "execution_count": 114,
   "metadata": {
    "collapsed": false
   },
   "outputs": [
    {
     "name": "stdout",
     "output_type": "stream",
     "text": [
      "# reprotox agent: 10610\n",
      "Reprotox drug name matching ShepIdx: 275\n",
      "Shepard/Reprotox 0.0259189443921\n",
      "# shephard agent: 3631\n",
      "shephard agent name matching DgDrug: 275\n",
      "Reprotox/Shepard 0.0757367116497\n"
     ]
    }
   ],
   "source": [
    "## Shephard match Reprotox & Reproox match Shepard\n",
    "print ('# reprotox agent:'), len(ReproAgent)\n",
    "idx_temp = [all(idx) for idx in zip(ReproIdx, ShepIdx)]\n",
    "repr_temp=set(joint_data['DgDrug'][idx_temp])\n",
    "print ('Reprotox drug name matching ShepIdx:'),len(repr_temp)\n",
    "print 'Shepard/Reprotox', len(repr_temp)/len(ReproAgent)\n",
    "\n",
    "print ('# shephard agent:'), len(ShepAgent)\n",
    "idx_temp = [all(idx) for idx in zip(ShepIdx, ReproIdx)]\n",
    "shep_temp=set(joint_data['ShepAgentName'][idx_temp])\n",
    "print ('shephard agent name matching DgDrug:'),len(shep_temp)\n",
    "print 'Reprotox/Shepard', len(shep_temp)/len(ShepAgent)"
   ]
  },
  {
   "cell_type": "code",
   "execution_count": 115,
   "metadata": {
    "collapsed": false,
    "scrolled": true
   },
   "outputs": [
    {
     "name": "stdout",
     "output_type": "stream",
     "text": [
      "only in Teris 517\n",
      "only in Shephard 3199\n",
      "only in Reprotox 7946\n"
     ]
    }
   ],
   "source": [
    "## only in one source\n",
    "\n",
    "print 'only in Teris', len(no_match_Teris)\n",
    "idx_temp = [all(idx) for idx in zip(ReproIdx, ShepIdx)]\n",
    "match1_Shep1=set(joint_data['ShepAgentName'][idx_temp])\n",
    "idx_temp = [all(idx) for idx in zip(TerisIdx, ShepIdx)]\n",
    "match1_Shep2=set(joint_data['ShepAgentName'][idx_temp])\n",
    "# idx_temp = [all(idx) for idx in zip([not i for i in TerisIdx], ShepIdx, [not i for i in ReproIdx])]\n",
    "# match1_Shep3=set(joint_data['ShepAgentName'][idx_temp])\n",
    "\n",
    "match1_Shep= ShepAgent- (match1_Shep1 | match1_Shep2)\n",
    "\n",
    "print 'only in Shephard', len(match1_Shep)\n",
    "\n",
    "idx_temp = [all(idx) for idx in zip(ReproIdx, ShepIdx)]\n",
    "match1_Repr1=set(joint_data['DgDrug'][idx_temp])\n",
    "idx_temp = [all(idx) for idx in zip(TerisIdx, ReproIdx)]\n",
    "match1_Repr2=set(joint_data['DgDrug'][idx_temp])\n",
    "#idx_temp = [all(idx) for idx in zip([not j for j in ShepIdx], ReproIdx, [not i for i in TerisIdx])]\n",
    "#match1_Repr3=set(joint_data['DgDrug'][idx_temp])\n",
    "\n",
    "match1_Repr= ReproAgent- (match1_Repr1 | match1_Repr2)\n",
    "print 'only in Reprotox', len(match1_Repr)"
   ]
  },
  {
   "cell_type": "code",
   "execution_count": 12,
   "metadata": {
    "collapsed": false
   },
   "outputs": [],
   "source": [
    "## 2nd time matching: ShepAgentName w agentname in Teris\n",
    "match_2nd=[]\n",
    "for item in list(ShepAgent):\n",
    "    if item.upper() in list(TerisAgent):\n",
    "        match_2nd.append(item)\n"
   ]
  },
  {
   "cell_type": "code",
   "execution_count": 14,
   "metadata": {
    "collapsed": false
   },
   "outputs": [
    {
     "name": "stdout",
     "output_type": "stream",
     "text": [
      "1662\n"
     ]
    }
   ],
   "source": [
    "len(match_2nd)\n",
    "print len(list(TerisAgent))"
   ]
  },
  {
   "cell_type": "code",
   "execution_count": 119,
   "metadata": {
    "collapsed": false,
    "scrolled": true
   },
   "outputs": [
    {
     "name": "stdout",
     "output_type": "stream",
     "text": [
      "total risk type: 93\n"
     ]
    }
   ],
   "source": [
    "magIdx=pd.notnull(joint_data['mag'])\n",
    "mag_set=set(joint_data['mag'][magIdx])\n",
    "print('total risk type:'),len(mag_set)"
   ]
  },
  {
   "cell_type": "code",
   "execution_count": 120,
   "metadata": {
    "collapsed": false
   },
   "outputs": [
    {
     "data": {
      "text/plain": [
       "['agentnumber',\n",
       " 'agentname',\n",
       " 'srch_date',\n",
       " 'rev_date',\n",
       " 'synonym',\n",
       " 'summary',\n",
       " 'mag',\n",
       " 'quality',\n",
       " 'comment',\n",
       " 'notes',\n",
       " 'bib',\n",
       " 'soundex',\n",
       " 'spsummary']"
      ]
     },
     "execution_count": 120,
     "metadata": {},
     "output_type": "execute_result"
    }
   ],
   "source": [
    "from collections import Counter\n",
    "teris_data=pd.read_csv('C:\\\\Users\\\\ffan\\\\Downloads\\\\Projects\\\\CDC\\\\full_data\\\\terisSummaries.csv')\n",
    "teris_data.columns.values.tolist()"
   ]
  },
  {
   "cell_type": "code",
   "execution_count": 121,
   "metadata": {
    "collapsed": false
   },
   "outputs": [
    {
     "name": "stdout",
     "output_type": "stream",
     "text": [
      "(1662, 13)\n",
      "93\n"
     ]
    }
   ],
   "source": [
    "print teris_data.shape\n",
    "print len(set(teris_data['mag']))"
   ]
  },
  {
   "cell_type": "code",
   "execution_count": 122,
   "metadata": {
    "collapsed": false
   },
   "outputs": [
    {
     "data": {
      "text/plain": [
       "[('UNDETERMINED', 1260),\n",
       " ('UNLIKELY', 195),\n",
       " ('NONE', 51),\n",
       " ('MINIMAL', 19),\n",
       " ('SMALL TO MODERATE', 14),\n",
       " ('NONE TO MINIMAL', 11),\n",
       " ('FIRST-TRIMESTER USE: UNDETERMINED\\r\\n\\r\\nUSE LATER IN PREGNANCY: SMALL TO MODERATE',\n",
       "  7),\n",
       " ('HIGH', 6),\n",
       " ('MINIMAL TO SMALL', 5),\n",
       " ('MODERATE TO HIGH', 4),\n",
       " ('MODERATE', 4)]"
      ]
     },
     "execution_count": 122,
     "metadata": {},
     "output_type": "execute_result"
    }
   ],
   "source": [
    "Counter(teris_data['mag']).most_common(11)"
   ]
  },
  {
   "cell_type": "code",
   "execution_count": 123,
   "metadata": {
    "collapsed": false
   },
   "outputs": [],
   "source": [
    "a=Counter(teris_data['mag']).most_common(10)\n",
    "a=dict(a)\n"
   ]
  },
  {
   "cell_type": "code",
   "execution_count": 124,
   "metadata": {
    "collapsed": true
   },
   "outputs": [],
   "source": [
    "import csv\n",
    "\n",
    "writer = csv.writer(open('mag_10.csv', 'wb'))\n",
    "for key, value in a.items():\n",
    "    writer.writerow([key, value])"
   ]
  },
  {
   "cell_type": "code",
   "execution_count": null,
   "metadata": {
    "collapsed": false
   },
   "outputs": [],
   "source": []
  },
  {
   "cell_type": "code",
   "execution_count": null,
   "metadata": {
    "collapsed": true
   },
   "outputs": [],
   "source": []
  }
 ],
 "metadata": {
  "kernelspec": {
   "display_name": "Python 2",
   "language": "python",
   "name": "python2"
  },
  "language_info": {
   "codemirror_mode": {
    "name": "ipython",
    "version": 2
   },
   "file_extension": ".py",
   "mimetype": "text/x-python",
   "name": "python",
   "nbconvert_exporter": "python",
   "pygments_lexer": "ipython2",
   "version": "2.7.10"
  }
 },
 "nbformat": 4,
 "nbformat_minor": 0
}
